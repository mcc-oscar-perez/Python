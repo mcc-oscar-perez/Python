{
 "cells": [
  {
   "cell_type": "code",
   "execution_count": 3,
   "id": "f2d42dec",
   "metadata": {},
   "outputs": [],
   "source": [
    "# Importamos la libreria\n",
    "import pandas as pd"
   ]
  },
  {
   "cell_type": "code",
   "execution_count": null,
   "id": "19d5e66f",
   "metadata": {},
   "outputs": [
    {
     "data": {
      "text/plain": [
       "np.float64(51.25)"
      ]
     },
     "execution_count": 4,
     "metadata": {},
     "output_type": "execute_result"
    }
   ],
   "source": [
    "# Podemos crear una serie de numeros y encontrar su media (promedio)\n",
    "numeros = pd.Series([1,2,3,5,67,35,235,62])\n",
    "numeros.mean()"
   ]
  },
  {
   "cell_type": "code",
   "execution_count": null,
   "id": "815f886c",
   "metadata": {},
   "outputs": [
    {
     "data": {
      "text/plain": [
       "np.int64(410)"
      ]
     },
     "execution_count": 5,
     "metadata": {},
     "output_type": "execute_result"
    }
   ],
   "source": [
    "# Podemos encontrar la suma de todos los elementos de la serie creada \n",
    "numeros.sum()"
   ]
  },
  {
   "cell_type": "code",
   "execution_count": 6,
   "id": "0213056d",
   "metadata": {},
   "outputs": [
    {
     "data": {
      "text/plain": [
       "0        Rojo\n",
       "1    Amarillo\n",
       "2       Verde\n",
       "dtype: object"
      ]
     },
     "execution_count": 6,
     "metadata": {},
     "output_type": "execute_result"
    }
   ],
   "source": [
    "# Podemos crear una serie pero de colores en lugar de numeros \n",
    "colores =pd.Series([\"Rojo\",\"Amarillo\",\"Verde\"])\n",
    "\n",
    "# Visualisamos la lista \n",
    "colores"
   ]
  },
  {
   "cell_type": "code",
   "execution_count": 7,
   "id": "e6b54a9b",
   "metadata": {},
   "outputs": [
    {
     "data": {
      "text/plain": [
       "0      sedan\n",
       "1        SUV\n",
       "2    Pick up\n",
       "dtype: object"
      ]
     },
     "execution_count": 7,
     "metadata": {},
     "output_type": "execute_result"
    }
   ],
   "source": [
    "# Podemos crear una serie de tipos de autos \n",
    "tipos_autos = pd.Series([\"sedan\",\"SUV\",\"Pick up\"])\n",
    "\n",
    "# Visualizamos la lista\n",
    "tipos_autos"
   ]
  }
 ],
 "metadata": {
  "kernelspec": {
   "display_name": "Python 3",
   "language": "python",
   "name": "python3"
  },
  "language_info": {
   "codemirror_mode": {
    "name": "ipython",
    "version": 3
   },
   "file_extension": ".py",
   "mimetype": "text/x-python",
   "name": "python",
   "nbconvert_exporter": "python",
   "pygments_lexer": "ipython3",
   "version": "3.13.1"
  }
 },
 "nbformat": 4,
 "nbformat_minor": 5
}
