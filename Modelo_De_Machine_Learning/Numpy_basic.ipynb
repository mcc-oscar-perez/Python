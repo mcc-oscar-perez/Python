{
 "cells": [
  {
   "cell_type": "code",
   "execution_count": 4,
   "id": "dd464267",
   "metadata": {},
   "outputs": [],
   "source": [
    "# importamos numpy \n",
    "import numpy as np\n"
   ]
  },
  {
   "cell_type": "code",
   "execution_count": 5,
   "id": "1fefa51c",
   "metadata": {},
   "outputs": [
    {
     "name": "stdout",
     "output_type": "stream",
     "text": [
      "----------------------\n",
      "[1 2 3 4 5]\n",
      "----------------------\n",
      "[[1 2 3]\n",
      " [4 5 6]]\n",
      "----------------------\n",
      "[[[ 1  2  3]\n",
      "  [ 4  5  6]]\n",
      "\n",
      " [[ 7  8  9]\n",
      "  [10 11 12]]]\n",
      "----------------------\n"
     ]
    }
   ],
   "source": [
    "# Creamos array o arreglo \n",
    "\n",
    "# Crear una array de una dimensión \n",
    "array_unidim = np.array([1,2,3,4,5]) \n",
    "\n",
    "# Creamos un array de 2 dimensiones de 2 x 3 (filas x columnas)\n",
    "array_bidim = np.array([[1,2,3],\n",
    "                        [4,5,6]])\n",
    "\n",
    "# Creamos un array de 3 dimensiones \n",
    "array_tridim = np.array([\n",
    "                        [[1,2,3],[4,5,6]],\n",
    "                        [[7,8,9],[10,11,12]]\n",
    "                        ])\n",
    "\n",
    "# Visualizamos nuestros array\n",
    "print(\"----------------------\")\n",
    "print(array_unidim)\n",
    "print(\"----------------------\")\n",
    "print(array_bidim)\n",
    "print(\"----------------------\")\n",
    "print(array_tridim)\n",
    "print(\"----------------------\")"
   ]
  },
  {
   "cell_type": "markdown",
   "id": "34f6b272",
   "metadata": {},
   "source": [
    "# Obtenemos propiedades de neustros array \n",
    "- array_unidim.shape # nos die el numero de elementos en su lista\n",
    "- array_unidim.ndim # nimero de dimensiones \n",
    "- array_unidim.dtype # que tipos de datos hay en el array\n",
    "- array_unidim.size # su tamaño "
   ]
  },
  {
   "cell_type": "code",
   "execution_count": 6,
   "id": "ec45d83b",
   "metadata": {},
   "outputs": [
    {
     "data": {
      "text/plain": [
       "((5,), 1, dtype('int64'), 5)"
      ]
     },
     "execution_count": 6,
     "metadata": {},
     "output_type": "execute_result"
    }
   ],
   "source": [
    "# Obtenemos propiedades de neustros array \n",
    "array_unidim.shape, array_unidim.ndim, array_unidim.dtype,array_unidim.size\n",
    "\n",
    "# vemos que es de 5 de ancho, 1 sola dimensión, tipo int64 y tiene 5 elementos \n"
   ]
  },
  {
   "cell_type": "code",
   "execution_count": 7,
   "id": "371e29d8",
   "metadata": {},
   "outputs": [
    {
     "data": {
      "text/plain": [
       "((2, 3), 2, dtype('int64'), 6)"
      ]
     },
     "execution_count": 7,
     "metadata": {},
     "output_type": "execute_result"
    }
   ],
   "source": [
    "array_bidim.shape, array_bidim.ndim, array_bidim.dtype,array_bidim.size \n",
    "\n",
    "# vemos que es de 2 filas por 3 columnas, 2 dimensiones , tipo de dato int64  y tiene 6 elementos "
   ]
  },
  {
   "cell_type": "code",
   "execution_count": 8,
   "id": "bc1dadc2",
   "metadata": {},
   "outputs": [
    {
     "data": {
      "text/plain": [
       "((2, 2, 3), 3, dtype('int64'), 12)"
      ]
     },
     "execution_count": 8,
     "metadata": {},
     "output_type": "execute_result"
    }
   ],
   "source": [
    "array_tridim.shape, array_tridim.ndim, array_tridim.dtype,array_tridim.size \n",
    "\n",
    "# Vemos que tiene 2 tablas con 2 filas y 3 columnas cada tabla, 3 dimensiones, tipo de dato int64 y tiene 12 elementos"
   ]
  },
  {
   "cell_type": "markdown",
   "id": "4cdb9be7",
   "metadata": {},
   "source": [
    "# Vemos similitudes con Pandas"
   ]
  },
  {
   "cell_type": "code",
   "execution_count": 9,
   "id": "a4ad4995",
   "metadata": {},
   "outputs": [],
   "source": [
    "# importamos pandas \n",
    "import pandas as pd"
   ]
  },
  {
   "cell_type": "code",
   "execution_count": 10,
   "id": "ae055b13",
   "metadata": {},
   "outputs": [
    {
     "data": {
      "text/html": [
       "<div>\n",
       "<style scoped>\n",
       "    .dataframe tbody tr th:only-of-type {\n",
       "        vertical-align: middle;\n",
       "    }\n",
       "\n",
       "    .dataframe tbody tr th {\n",
       "        vertical-align: top;\n",
       "    }\n",
       "\n",
       "    .dataframe thead th {\n",
       "        text-align: right;\n",
       "    }\n",
       "</style>\n",
       "<table border=\"1\" class=\"dataframe\">\n",
       "  <thead>\n",
       "    <tr style=\"text-align: right;\">\n",
       "      <th></th>\n",
       "      <th>0</th>\n",
       "      <th>1</th>\n",
       "      <th>2</th>\n",
       "    </tr>\n",
       "  </thead>\n",
       "  <tbody>\n",
       "    <tr>\n",
       "      <th>0</th>\n",
       "      <td>1</td>\n",
       "      <td>2</td>\n",
       "      <td>3</td>\n",
       "    </tr>\n",
       "    <tr>\n",
       "      <th>1</th>\n",
       "      <td>4</td>\n",
       "      <td>5</td>\n",
       "      <td>6</td>\n",
       "    </tr>\n",
       "  </tbody>\n",
       "</table>\n",
       "</div>"
      ],
      "text/plain": [
       "   0  1  2\n",
       "0  1  2  3\n",
       "1  4  5  6"
      ]
     },
     "execution_count": 10,
     "metadata": {},
     "output_type": "execute_result"
    }
   ],
   "source": [
    "# Cremos un daraframe con pandas el cual nos estructurara los datos \n",
    "datos = pd.DataFrame(array_bidim)\n",
    "datos"
   ]
  },
  {
   "cell_type": "markdown",
   "id": "e5819712",
   "metadata": {},
   "source": [
    "# Volvemos a trabjar con numpy"
   ]
  },
  {
   "cell_type": "code",
   "execution_count": 11,
   "id": "5c039c65",
   "metadata": {},
   "outputs": [
    {
     "data": {
      "text/plain": [
       "array([[1., 1., 1.],\n",
       "       [1., 1., 1.],\n",
       "       [1., 1., 1.],\n",
       "       [1., 1., 1.]])"
      ]
     },
     "execution_count": 11,
     "metadata": {},
     "output_type": "execute_result"
    }
   ],
   "source": [
    "# Creamos un array de 4 filas por 3 columnas de manera rapida con \".ones\" pero se hara de puros numeros 1\n",
    "unos = np.ones((4,3))\n",
    "unos"
   ]
  },
  {
   "cell_type": "code",
   "execution_count": 12,
   "id": "000a62a7",
   "metadata": {},
   "outputs": [
    {
     "data": {
      "text/plain": [
       "array([[[0., 0., 0.],\n",
       "        [0., 0., 0.],\n",
       "        [0., 0., 0.],\n",
       "        [0., 0., 0.]],\n",
       "\n",
       "       [[0., 0., 0.],\n",
       "        [0., 0., 0.],\n",
       "        [0., 0., 0.],\n",
       "        [0., 0., 0.]]])"
      ]
     },
     "execution_count": 12,
     "metadata": {},
     "output_type": "execute_result"
    }
   ],
   "source": [
    "# Creamos un array de 2 tablas con 4 filas por 3 columnas formada unicamente con ceros \n",
    "cero = np.zeros((2,4,3))\n",
    "cero"
   ]
  },
  {
   "cell_type": "code",
   "execution_count": 13,
   "id": "b28b1d99",
   "metadata": {},
   "outputs": [
    {
     "data": {
      "text/plain": [
       "array([ 0,  5, 10, 15, 20, 25, 30, 35, 40, 45, 50, 55, 60, 65, 70, 75, 80,\n",
       "       85, 90, 95])"
      ]
     },
     "execution_count": 13,
     "metadata": {},
     "output_type": "execute_result"
    }
   ],
   "source": [
    "# Creamos un array con con numeros del 0 al 100, saltando de 5 en 5 \n",
    "array_1 = np.arange(0,100,5)\n",
    "array_1"
   ]
  },
  {
   "cell_type": "code",
   "execution_count": 14,
   "id": "6891d9d4",
   "metadata": {},
   "outputs": [
    {
     "data": {
      "text/plain": [
       "array([[6, 4, 8, 5, 8],\n",
       "       [8, 4, 0, 5, 9]], dtype=int32)"
      ]
     },
     "execution_count": 14,
     "metadata": {},
     "output_type": "execute_result"
    }
   ],
   "source": [
    "# Cramos un array de números aleatorios enteros comprendidos entre 0 y 10, de tamañao 2 filas por 5 columnas (2x5)\n",
    "array_2 = np.random.randint(0,10,(2,5))\n",
    "array_2"
   ]
  },
  {
   "cell_type": "code",
   "execution_count": 15,
   "id": "a08eeb39",
   "metadata": {},
   "outputs": [
    {
     "data": {
      "text/plain": [
       "array([[0.09926055, 0.52805369, 0.73722524, 0.37917445, 0.14059796],\n",
       "       [0.94332383, 0.52187448, 0.45090885, 0.06713667, 0.9104307 ],\n",
       "       [0.35068954, 0.90531516, 0.38173563, 0.34082004, 0.39697949]])"
      ]
     },
     "execution_count": 15,
     "metadata": {},
     "output_type": "execute_result"
    }
   ],
   "source": [
    "# creamos un array de numeros aletorios pero con punto decimal con \"random\" pero solo entre 0 y 1\n",
    "array_3 = np.random.random((3,5))\n",
    "array_3 "
   ]
  },
  {
   "cell_type": "code",
   "execution_count": 16,
   "id": "be38d899",
   "metadata": {},
   "outputs": [
    {
     "data": {
      "text/plain": [
       "array([[5, 5, 4, 7, 2],\n",
       "       [5, 1, 3, 9, 7],\n",
       "       [7, 1, 1, 3, 2]], dtype=int32)"
      ]
     },
     "execution_count": 16,
     "metadata": {},
     "output_type": "execute_result"
    }
   ],
   "source": [
    "# Establecemos una semilla de numeros aleatorios, cada semilla tiene una secuencia de numeros aleatorios fijos ,\n",
    "# por ello fijar una semillia hebita que la aleetoriedad se repita cambie\n",
    "\n",
    "np.random.seed(30)\n",
    "\n",
    "# Creamos un array de números aleatorios enntre 0 y 10 de tamaño (3,5)\n",
    "array_4 =np.random.randint(0,10,(3,5))\n",
    "array_4"
   ]
  },
  {
   "cell_type": "code",
   "execution_count": 17,
   "id": "658945f4",
   "metadata": {},
   "outputs": [
    {
     "data": {
      "text/plain": [
       "array([1, 2, 3, 4, 5, 7, 9], dtype=int32)"
      ]
     },
     "execution_count": 17,
     "metadata": {},
     "output_type": "execute_result"
    }
   ],
   "source": [
    "# Encontramos todos los elementos unicos dentro de un array \n",
    "np.unique(array_4)"
   ]
  },
  {
   "cell_type": "code",
   "execution_count": null,
   "id": "db2f8c61",
   "metadata": {},
   "outputs": [
    {
     "data": {
      "text/plain": [
       "array([5, 1, 3, 9, 7], dtype=int32)"
      ]
     },
     "execution_count": 18,
     "metadata": {},
     "output_type": "execute_result"
    }
   ],
   "source": [
    "# Extraer un elemento de un array \n",
    "array_4[1]"
   ]
  },
  {
   "cell_type": "code",
   "execution_count": 19,
   "id": "d5cae5e8",
   "metadata": {},
   "outputs": [
    {
     "data": {
      "text/plain": [
       "array([[5, 5, 4, 7, 2],\n",
       "       [5, 1, 3, 9, 7]], dtype=int32)"
      ]
     },
     "execution_count": 19,
     "metadata": {},
     "output_type": "execute_result"
    }
   ],
   "source": [
    "# Extraer las dos primeras filas de un array\n",
    "array_4[:2]"
   ]
  },
  {
   "cell_type": "code",
   "execution_count": 20,
   "id": "1d3fd8f0",
   "metadata": {},
   "outputs": [
    {
     "data": {
      "text/plain": [
       "array([[5, 5],\n",
       "       [5, 1]], dtype=int32)"
      ]
     },
     "execution_count": 20,
     "metadata": {},
     "output_type": "execute_result"
    }
   ],
   "source": [
    "# Sí queremos extraer una cantindad determinad de elementos de una determinada cantidad de filas \n",
    "array_4[:2,:2]"
   ]
  },
  {
   "cell_type": "code",
   "execution_count": 30,
   "id": "498165fb",
   "metadata": {},
   "outputs": [
    {
     "name": "stdout",
     "output_type": "stream",
     "text": [
      "[[4 2 6 2]\n",
      " [9 9 3 0]\n",
      " [8 9 2 1]]\n",
      "\n",
      "[[1. 1. 1. 1.]\n",
      " [1. 1. 1. 1.]\n",
      " [1. 1. 1. 1.]]\n"
     ]
    }
   ],
   "source": [
    "# Creamos 2 array de 3 filas por 4 columnas (3x4) relleno de numeros aleatorios y otro igual pero de puros numeros uno \n",
    "\n",
    "array_5 = np.random.randint(0,10,(3,4))\n",
    "print(array_5)\n",
    "print(\"\")\n",
    "array_6 =np.ones((3,4))\n",
    "print(array_6)"
   ]
  },
  {
   "cell_type": "code",
   "execution_count": 31,
   "id": "6fd7b495",
   "metadata": {},
   "outputs": [
    {
     "data": {
      "text/plain": [
       "array([[ 5.,  3.,  7.,  3.],\n",
       "       [10., 10.,  4.,  1.],\n",
       "       [ 9., 10.,  3.,  2.]])"
      ]
     },
     "execution_count": 31,
     "metadata": {},
     "output_type": "execute_result"
    }
   ],
   "source": [
    "# Sumamos los array\n",
    "array_5 + array_6\n"
   ]
  },
  {
   "cell_type": "code",
   "execution_count": null,
   "id": "e56ce7ad",
   "metadata": {},
   "outputs": [
    {
     "data": {
      "text/plain": [
       "array([[1., 1., 1.],\n",
       "       [1., 1., 1.],\n",
       "       [1., 1., 1.],\n",
       "       [1., 1., 1.]])"
      ]
     },
     "execution_count": 33,
     "metadata": {},
     "output_type": "execute_result"
    }
   ],
   "source": [
    "# Hacemos un array de 4 x 3 , es importante aclarar que no podemos hace operaciones entre arrays de diferentes dimensiones\n",
    "array_7 = np.ones((4,3))\n",
    "array_7"
   ]
  },
  {
   "cell_type": "code",
   "execution_count": null,
   "id": "711bbfc4",
   "metadata": {},
   "outputs": [
    {
     "name": "stdout",
     "output_type": "stream",
     "text": [
      "[[9 5 8 2]\n",
      " [1 7 6 2]\n",
      " [3 3 7 8]]\n",
      "\n",
      "[[5 6 5 9]\n",
      " [6 5 7 1]\n",
      " [8 3 9 9]]\n",
      "\n",
      "[[45 30 40 18]\n",
      " [ 6 35 42  2]\n",
      " [24  9 63 72]]\n"
     ]
    }
   ],
   "source": [
    "# Creamos 2 array nuevos para hacer multipliaciones \n",
    "array_8 = np.random.randint(1,10,(3,4))\n",
    "array_9 = np.random.randint(1,10,(3,4))\n",
    "\n",
    "# visualziamos el los array \n",
    "print(array_8)\n",
    "print(\"\")\n",
    "print(array_9)\n",
    "print(\"\")\n",
    "\n",
    "# Multiplicamos los array\n",
    "x = array_8 * array_9\n",
    "\n",
    "# Visualozamos el resultado \n",
    "print(x)\n"
   ]
  },
  {
   "cell_type": "code",
   "execution_count": null,
   "id": "cdbfc49c",
   "metadata": {},
   "outputs": [
    {
     "data": {
      "text/plain": [
       "array([[81, 25, 64,  4],\n",
       "       [ 1, 49, 36,  4],\n",
       "       [ 9,  9, 49, 64]], dtype=int32)"
      ]
     },
     "execution_count": 37,
     "metadata": {},
     "output_type": "execute_result"
    }
   ],
   "source": [
    "# tambien podemos elevar algun array al cuadrado\n",
    "array_8**2"
   ]
  },
  {
   "cell_type": "code",
   "execution_count": 38,
   "id": "816668de",
   "metadata": {},
   "outputs": [
    {
     "data": {
      "text/plain": [
       "array([[2.23606798, 2.44948974, 2.23606798, 3.        ],\n",
       "       [2.44948974, 2.23606798, 2.64575131, 1.        ],\n",
       "       [2.82842712, 1.73205081, 3.        , 3.        ]])"
      ]
     },
     "execution_count": 38,
     "metadata": {},
     "output_type": "execute_result"
    }
   ],
   "source": [
    "# Podemos sacar raiz cuadrada \n",
    "np.sqrt(array_9)"
   ]
  },
  {
   "cell_type": "code",
   "execution_count": 39,
   "id": "d48aee9b",
   "metadata": {},
   "outputs": [
    {
     "data": {
      "text/plain": [
       "np.float64(6.083333333333333)"
      ]
     },
     "execution_count": 39,
     "metadata": {},
     "output_type": "execute_result"
    }
   ],
   "source": [
    "# Podemos sacar el promedio de un array completo\n",
    "array_9.mean()"
   ]
  },
  {
   "cell_type": "code",
   "execution_count": 41,
   "id": "9d36f78c",
   "metadata": {},
   "outputs": [
    {
     "data": {
      "text/plain": [
       "np.int32(9)"
      ]
     },
     "execution_count": 41,
     "metadata": {},
     "output_type": "execute_result"
    }
   ],
   "source": [
    "# Podemos encontrar el valor maximo \n",
    "array_9.max()"
   ]
  },
  {
   "cell_type": "code",
   "execution_count": 42,
   "id": "1adc195a",
   "metadata": {},
   "outputs": [
    {
     "data": {
      "text/plain": [
       "np.int32(1)"
      ]
     },
     "execution_count": 42,
     "metadata": {},
     "output_type": "execute_result"
    }
   ],
   "source": [
    "# Podemos encontrar el valor minimo \n",
    "array_9.min()"
   ]
  },
  {
   "cell_type": "code",
   "execution_count": 46,
   "id": "73b8e84f",
   "metadata": {},
   "outputs": [
    {
     "data": {
      "text/plain": [
       "array([[5],\n",
       "       [6],\n",
       "       [5],\n",
       "       [9],\n",
       "       [6],\n",
       "       [5],\n",
       "       [7],\n",
       "       [1],\n",
       "       [8],\n",
       "       [3],\n",
       "       [9],\n",
       "       [9]], dtype=int32)"
      ]
     },
     "execution_count": 46,
     "metadata": {},
     "output_type": "execute_result"
    }
   ],
   "source": [
    "# Podemos cambiar las dimenciones de nuestro array de un de 3 x 4 por uno de 12 x 1 \n",
    "array_10 = array_9.reshape((12,1))\n",
    "array_10"
   ]
  },
  {
   "cell_type": "code",
   "execution_count": 47,
   "id": "61456ac5",
   "metadata": {},
   "outputs": [
    {
     "data": {
      "text/plain": [
       "array([[5, 6, 5, 9, 6, 5, 7, 1, 8, 3, 9, 9]], dtype=int32)"
      ]
     },
     "execution_count": 47,
     "metadata": {},
     "output_type": "execute_result"
    }
   ],
   "source": [
    "# Podemos cambiar nuestro array de manera que las filas se vielvan columnas unsando \"Transponer\"\n",
    "# No olvidar que estos siguine siendo de 2 dimenciones en el primero caso es de 12 x 1 y en este es de 1 x 12\n",
    "array_10.T"
   ]
  },
  {
   "cell_type": "code",
   "execution_count": 48,
   "id": "c8882dc8",
   "metadata": {},
   "outputs": [
    {
     "data": {
      "text/plain": [
       "array([[ True, False,  True, False],\n",
       "       [False,  True, False,  True],\n",
       "       [False, False, False, False]])"
      ]
     },
     "execution_count": 48,
     "metadata": {},
     "output_type": "execute_result"
    }
   ],
   "source": [
    "# Podmeos comparar arrays \n",
    "array_11 = array_8 > array_9\n",
    "array_11"
   ]
  },
  {
   "cell_type": "code",
   "execution_count": null,
   "id": "45378e72",
   "metadata": {},
   "outputs": [
    {
     "data": {
      "text/plain": [
       "dtype('bool')"
      ]
     },
     "execution_count": 49,
     "metadata": {},
     "output_type": "execute_result"
    }
   ],
   "source": [
    "# Por hacer l aultima operacion los valores cambiaron su tipo de dato \n",
    "array_11.dtype"
   ]
  },
  {
   "cell_type": "code",
   "execution_count": null,
   "id": "21058d1d",
   "metadata": {},
   "outputs": [
    {
     "data": {
      "text/plain": [
       "array([[False, False, False, False],\n",
       "       [False, False, False, False],\n",
       "       [False,  True, False, False]])"
      ]
     },
     "execution_count": 50,
     "metadata": {},
     "output_type": "execute_result"
    }
   ],
   "source": [
    "# Podemos revisar si hay valores iguales\n",
    "array_8 == array_9"
   ]
  },
  {
   "cell_type": "code",
   "execution_count": null,
   "id": "0af3d601",
   "metadata": {},
   "outputs": [
    {
     "data": {
      "text/plain": [
       "array([[ True, False,  True, False],\n",
       "       [False,  True, False,  True],\n",
       "       [False,  True, False, False]])"
      ]
     },
     "execution_count": 51,
     "metadata": {},
     "output_type": "execute_result"
    }
   ],
   "source": [
    "# Podemos revisar si hay mauores o iguales\n",
    "array_8 >= array_9"
   ]
  },
  {
   "cell_type": "code",
   "execution_count": null,
   "id": "2e8e8317",
   "metadata": {},
   "outputs": [
    {
     "data": {
      "text/plain": [
       "array([[ True,  True,  True,  True],\n",
       "       [ True,  True,  True, False],\n",
       "       [ True,  True,  True,  True]])"
      ]
     },
     "execution_count": 52,
     "metadata": {},
     "output_type": "execute_result"
    }
   ],
   "source": [
    "# Podemos buscar si hay valores en un array mayores a 2, por ejemplo\n",
    "array_9 > 2"
   ]
  },
  {
   "cell_type": "code",
   "execution_count": null,
   "id": "7f6506b9",
   "metadata": {},
   "outputs": [
    {
     "data": {
      "text/plain": [
       "array([[5, 5, 6, 9],\n",
       "       [1, 5, 6, 7],\n",
       "       [3, 8, 9, 9]], dtype=int32)"
      ]
     },
     "execution_count": 54,
     "metadata": {},
     "output_type": "execute_result"
    }
   ],
   "source": [
    "# Podemos ordenar de menor a mayor los elementos de un array eb cada linea. \n",
    "np.sort(array_9)"
   ]
  }
 ],
 "metadata": {
  "kernelspec": {
   "display_name": "Python 3",
   "language": "python",
   "name": "python3"
  },
  "language_info": {
   "codemirror_mode": {
    "name": "ipython",
    "version": 3
   },
   "file_extension": ".py",
   "mimetype": "text/x-python",
   "name": "python",
   "nbconvert_exporter": "python",
   "pygments_lexer": "ipython3",
   "version": "3.13.1"
  }
 },
 "nbformat": 4,
 "nbformat_minor": 5
}
