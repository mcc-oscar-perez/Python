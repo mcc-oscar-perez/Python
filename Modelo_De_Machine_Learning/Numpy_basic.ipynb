{
 "cells": [
  {
   "cell_type": "code",
   "execution_count": null,
   "id": "dd464267",
   "metadata": {},
   "outputs": [],
   "source": [
    "# importamos numpy \n",
    "import numpy as np\n"
   ]
  },
  {
   "cell_type": "code",
   "execution_count": 20,
   "id": "1fefa51c",
   "metadata": {},
   "outputs": [
    {
     "name": "stdout",
     "output_type": "stream",
     "text": [
      "----------------------\n",
      "[1 2 3 4 5]\n",
      "----------------------\n",
      "[[1 2 3]\n",
      " [4 5 6]]\n",
      "----------------------\n",
      "[[[ 1  2  3]\n",
      "  [ 4  5  6]]\n",
      "\n",
      " [[ 7  8  9]\n",
      "  [10 11 12]]]\n",
      "----------------------\n"
     ]
    }
   ],
   "source": [
    "# Creamos array o arreglo \n",
    "\n",
    "# Crear una array de una dimensión \n",
    "array_unidim = np.array([1,2,3,4,5]) \n",
    "\n",
    "# Creamos un array de 2 dimensiones de 2 x 3 (filas x columnas)\n",
    "array_bidim = np.array([[1,2,3],\n",
    "                        [4,5,6]])\n",
    "\n",
    "# Creamos un array de 3 dimensiones \n",
    "array_tridim = np.array([\n",
    "                        [[1,2,3],[4,5,6]],\n",
    "                        [[7,8,9],[10,11,12]]\n",
    "                        ])\n",
    "\n",
    "# Visualizamos nuestros array\n",
    "print(\"----------------------\")\n",
    "print(array_unidim)\n",
    "print(\"----------------------\")\n",
    "print(array_bidim)\n",
    "print(\"----------------------\")\n",
    "print(array_tridim)\n",
    "print(\"----------------------\")"
   ]
  },
  {
   "cell_type": "markdown",
   "id": "34f6b272",
   "metadata": {},
   "source": [
    "# Obtenemos propiedades de neustros array \n",
    "- array_unidim.shape # nos die el numero de elementos en su lista\n",
    "- array_unidim.ndim # nimero de dimensiones \n",
    "- array_unidim.dtype # que tipos de datos hay en el array\n",
    "- array_unidim.size # su tamaño "
   ]
  },
  {
   "cell_type": "code",
   "execution_count": null,
   "id": "ec45d83b",
   "metadata": {},
   "outputs": [
    {
     "data": {
      "text/plain": [
       "((5,), 1, dtype('int64'), 5)"
      ]
     },
     "execution_count": 8,
     "metadata": {},
     "output_type": "execute_result"
    }
   ],
   "source": [
    "# Obtenemos propiedades de neustros array \n",
    "array_unidim.shape, array_unidim.ndim, array_unidim.dtype,array_unidim.size\n",
    "\n",
    "# vemos que es de 5 de ancho, 1 sola dimensión, tipo int64 y tiene 5 elementos \n"
   ]
  },
  {
   "cell_type": "code",
   "execution_count": null,
   "id": "371e29d8",
   "metadata": {},
   "outputs": [
    {
     "data": {
      "text/plain": [
       "((2, 3), 2, dtype('int64'), 6)"
      ]
     },
     "execution_count": 9,
     "metadata": {},
     "output_type": "execute_result"
    }
   ],
   "source": [
    "array_bidim.shape, array_bidim.ndim, array_bidim.dtype,array_bidim.size \n",
    "\n",
    "# vemos que es de 2 filas por 3 columnas, 2 dimensiones , tipo de dato int64  y tiene 6 elementos "
   ]
  },
  {
   "cell_type": "code",
   "execution_count": null,
   "id": "bc1dadc2",
   "metadata": {},
   "outputs": [
    {
     "data": {
      "text/plain": [
       "((2, 2, 3), 3, dtype('int64'), 12)"
      ]
     },
     "execution_count": 10,
     "metadata": {},
     "output_type": "execute_result"
    }
   ],
   "source": [
    "array_tridim.shape, array_tridim.ndim, array_tridim.dtype,array_tridim.size \n",
    "\n",
    "# Vemos que tiene 2 tablas con 2 filas y 3 columnas cada tabla, 3 dimensiones, tipo de dato int64 y tiene 12 elementos"
   ]
  },
  {
   "cell_type": "markdown",
   "id": "4cdb9be7",
   "metadata": {},
   "source": [
    "# Vemos similitudes con Pandas"
   ]
  },
  {
   "cell_type": "code",
   "execution_count": 11,
   "id": "a4ad4995",
   "metadata": {},
   "outputs": [],
   "source": [
    "# importamos pandas \n",
    "import pandas as pd"
   ]
  },
  {
   "cell_type": "code",
   "execution_count": null,
   "id": "ae055b13",
   "metadata": {},
   "outputs": [
    {
     "data": {
      "text/html": [
       "<div>\n",
       "<style scoped>\n",
       "    .dataframe tbody tr th:only-of-type {\n",
       "        vertical-align: middle;\n",
       "    }\n",
       "\n",
       "    .dataframe tbody tr th {\n",
       "        vertical-align: top;\n",
       "    }\n",
       "\n",
       "    .dataframe thead th {\n",
       "        text-align: right;\n",
       "    }\n",
       "</style>\n",
       "<table border=\"1\" class=\"dataframe\">\n",
       "  <thead>\n",
       "    <tr style=\"text-align: right;\">\n",
       "      <th></th>\n",
       "      <th>0</th>\n",
       "      <th>1</th>\n",
       "      <th>2</th>\n",
       "    </tr>\n",
       "  </thead>\n",
       "  <tbody>\n",
       "    <tr>\n",
       "      <th>0</th>\n",
       "      <td>1</td>\n",
       "      <td>2</td>\n",
       "      <td>3</td>\n",
       "    </tr>\n",
       "    <tr>\n",
       "      <th>1</th>\n",
       "      <td>4</td>\n",
       "      <td>5</td>\n",
       "      <td>6</td>\n",
       "    </tr>\n",
       "  </tbody>\n",
       "</table>\n",
       "</div>"
      ],
      "text/plain": [
       "   0  1  2\n",
       "0  1  2  3\n",
       "1  4  5  6"
      ]
     },
     "execution_count": 12,
     "metadata": {},
     "output_type": "execute_result"
    }
   ],
   "source": [
    "# Cremos un daraframe con pandas el cual nos estructurara los datos \n",
    "datos = pd.DataFrame(array_bidim)\n",
    "datos"
   ]
  },
  {
   "cell_type": "markdown",
   "id": "e5819712",
   "metadata": {},
   "source": [
    "# Volvemos a trabjar con numpy"
   ]
  },
  {
   "cell_type": "code",
   "execution_count": 21,
   "id": "5c039c65",
   "metadata": {},
   "outputs": [
    {
     "data": {
      "text/plain": [
       "array([[1., 1., 1.],\n",
       "       [1., 1., 1.],\n",
       "       [1., 1., 1.],\n",
       "       [1., 1., 1.]])"
      ]
     },
     "execution_count": 21,
     "metadata": {},
     "output_type": "execute_result"
    }
   ],
   "source": [
    "# Creamos un array de 4 filas por 3 columnas de manera rapida con \".ones\" pero se hara de puros numeros 1\n",
    "unos = np.ones((4,3))\n",
    "unos"
   ]
  },
  {
   "cell_type": "code",
   "execution_count": 22,
   "id": "000a62a7",
   "metadata": {},
   "outputs": [
    {
     "data": {
      "text/plain": [
       "array([[[0., 0., 0.],\n",
       "        [0., 0., 0.],\n",
       "        [0., 0., 0.],\n",
       "        [0., 0., 0.]],\n",
       "\n",
       "       [[0., 0., 0.],\n",
       "        [0., 0., 0.],\n",
       "        [0., 0., 0.],\n",
       "        [0., 0., 0.]]])"
      ]
     },
     "execution_count": 22,
     "metadata": {},
     "output_type": "execute_result"
    }
   ],
   "source": [
    "# Creamos un array de 2 tablas con 4 filas por 3 columnas formada unicamente con ceros \n",
    "cero = np.zeros((2,4,3))\n",
    "cero"
   ]
  },
  {
   "cell_type": "code",
   "execution_count": 23,
   "id": "b28b1d99",
   "metadata": {},
   "outputs": [
    {
     "data": {
      "text/plain": [
       "array([ 0,  5, 10, 15, 20, 25, 30, 35, 40, 45, 50, 55, 60, 65, 70, 75, 80,\n",
       "       85, 90, 95])"
      ]
     },
     "execution_count": 23,
     "metadata": {},
     "output_type": "execute_result"
    }
   ],
   "source": [
    "# Creamos un array con con numeros del 0 al 100, saltando de 5 en 5 \n",
    "array_1 = np.arange(0,100,5)\n",
    "array_1"
   ]
  },
  {
   "cell_type": "code",
   "execution_count": 26,
   "id": "6891d9d4",
   "metadata": {},
   "outputs": [
    {
     "data": {
      "text/plain": [
       "array([[6, 0, 3, 8, 0],\n",
       "       [1, 8, 3, 3, 0]], dtype=int32)"
      ]
     },
     "execution_count": 26,
     "metadata": {},
     "output_type": "execute_result"
    }
   ],
   "source": [
    "# Cramos un array de números aleatorios enteros comprendidos entre 0 y 10, de tamañao 2 filas por 5 columnas (2x5)\n",
    "array_2 = np.random.randint(0,10,(2,5))\n",
    "array_2"
   ]
  },
  {
   "cell_type": "code",
   "execution_count": 28,
   "id": "a08eeb39",
   "metadata": {},
   "outputs": [
    {
     "data": {
      "text/plain": [
       "array([[0.77308219, 0.77038392, 0.46980311, 0.4295424 , 0.44430935],\n",
       "       [0.36451598, 0.63167168, 0.982812  , 0.75886702, 0.12615849],\n",
       "       [0.38109733, 0.25695448, 0.85027155, 0.93684444, 0.44654857]])"
      ]
     },
     "execution_count": 28,
     "metadata": {},
     "output_type": "execute_result"
    }
   ],
   "source": [
    "# creamos un array de numeros aletorios pero con punto decimal con \"random\" pero solo entre 0 y 1\n",
    "array_3 = np.random.random((3,5))\n",
    "array_3 "
   ]
  },
  {
   "cell_type": "code",
   "execution_count": null,
   "id": "be38d899",
   "metadata": {},
   "outputs": [
    {
     "data": {
      "text/plain": [
       "array([[5, 5, 4, 7, 2],\n",
       "       [5, 1, 3, 9, 7],\n",
       "       [7, 1, 1, 3, 2]], dtype=int32)"
      ]
     },
     "execution_count": 32,
     "metadata": {},
     "output_type": "execute_result"
    }
   ],
   "source": [
    "# Establecemos una semilla de numeros aleatorios, cada semilla tiene una secuencia de numeros aleatorios fijos ,\n",
    "# por ello fijar una semillia hebita que la aleetoriedad se repita cambie\n",
    "\n",
    "np.random.seed(30)\n",
    "\n",
    "# Creamos un array de números aleatorios enntre 0 y 10 de tamaño (3,5)\n",
    "array_4 =np.random.randint(0,10,(3,5))\n",
    "array_4"
   ]
  }
 ],
 "metadata": {
  "kernelspec": {
   "display_name": "Python 3",
   "language": "python",
   "name": "python3"
  },
  "language_info": {
   "codemirror_mode": {
    "name": "ipython",
    "version": 3
   },
   "file_extension": ".py",
   "mimetype": "text/x-python",
   "name": "python",
   "nbconvert_exporter": "python",
   "pygments_lexer": "ipython3",
   "version": "3.13.1"
  }
 },
 "nbformat": 4,
 "nbformat_minor": 5
}
